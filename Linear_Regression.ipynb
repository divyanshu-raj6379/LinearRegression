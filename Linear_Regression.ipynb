{
  "nbformat": 4,
  "nbformat_minor": 0,
  "metadata": {
    "colab": {
      "provenance": []
    },
    "kernelspec": {
      "name": "python3",
      "display_name": "Python 3"
    },
    "language_info": {
      "name": "python"
    }
  },
  "cells": [
    {
      "cell_type": "code",
      "execution_count": 1,
      "metadata": {
        "id": "Fx49XbM4-ECi"
      },
      "outputs": [],
      "source": [
        "import numpy as np\n",
        "import matplotlib.pyplot as plt"
      ]
    },
    {
      "cell_type": "code",
      "source": [
        "np.random.seed(79)\n",
        "m = 100 # number of observation\n",
        "X = 3 * np.random.rand(m,1) # column vector\n",
        "y = 5 * X + np.random.rand(m,1) # column vector"
      ],
      "metadata": {
        "id": "ms-5AiUr-YTR"
      },
      "execution_count": 2,
      "outputs": []
    },
    {
      "cell_type": "code",
      "source": [
        "# plot\n",
        "fig, ax = plt.subplots()\n",
        "ax.plot(X, y, linewidth=2.0)\n",
        "plt.show()"
      ],
      "metadata": {
        "colab": {
          "base_uri": "https://localhost:8080/",
          "height": 269
        },
        "id": "SqUwgmAz-3Mb",
        "outputId": "b86604b6-3cad-4057-a999-e061dc86367f"
      },
      "execution_count": 3,
      "outputs": [
        {
          "output_type": "display_data",
          "data": {
            "text/plain": [
              "<Figure size 432x288 with 1 Axes>"
            ],
            "image/png": "[encoded data removed]"
          },
          "metadata": {
            "needs_background": "light"
          }
        }
      ]
    },
    {
      "cell_type": "code",
      "source": [
        "from sklearn.preprocessing import add_dummy_feature"
      ],
      "metadata": {
        "id": "PMNCycD0_e7A"
      },
      "execution_count": 4,
      "outputs": []
    },
    {
      "cell_type": "code",
      "source": [
        "X_b = add_dummy_feature(X) # add x0=1 to each observation"
      ],
      "metadata": {
        "id": "_4sC5hoz_wv4"
      },
      "execution_count": 5,
      "outputs": []
    },
    {
      "cell_type": "code",
      "source": [
        "# this is the normal equation that minimizes the cost function \n",
        "theta_best = np.linalg.inv(X_b.T @ X_b) @ X_b.T @ y \n",
        "theta_best"
      ],
      "metadata": {
        "colab": {
          "base_uri": "https://localhost:8080/"
        },
        "id": "iRUvWQ78_1iR",
        "outputId": "c6cb5aaa-4ac9-42cd-c058-f63c72df4b5b"
      },
      "execution_count": 6,
      "outputs": [
        {
          "output_type": "execute_result",
          "data": {
            "text/plain": [
              "array([[0.45383577],\n",
              "       [5.02107898]])"
            ]
          },
          "metadata": {},
          "execution_count": 6
        }
      ]
    },
    {
      "cell_type": "code",
      "source": [
        "# Make prediction\n",
        "X_new = [[0], [3]]\n",
        "X_new_b = add_dummy_feature(X_new)\n",
        "y_predict = X_new_b @ theta_best\n",
        "y_predict"
      ],
      "metadata": {
        "colab": {
          "base_uri": "https://localhost:8080/"
        },
        "id": "R2g6_jdyA8ua",
        "outputId": "9a47d7d4-99fb-4581-9c3a-411555dd9b0a"
      },
      "execution_count": 7,
      "outputs": [
        {
          "output_type": "execute_result",
          "data": {
            "text/plain": [
              "array([[ 0.45383577],\n",
              "       [15.5170727 ]])"
            ]
          },
          "metadata": {},
          "execution_count": 7
        }
      ]
    },
    {
      "cell_type": "code",
      "source": [
        "plt.plot(X_new, y_predict, \"r-\", label=\"Predictions\")\n",
        "plt.plot(X, y, \"b.\")\n",
        "plt.show()"
      ],
      "metadata": {
        "colab": {
          "base_uri": "https://localhost:8080/",
          "height": 266
        },
        "id": "TqN5JMv0BuEs",
        "outputId": "410ee419-6bd4-421f-fb82-83367775087c"
      },
      "execution_count": 8,
      "outputs": [
        {
          "output_type": "display_data",
          "data": {
            "text/plain": [
              "<Figure size 432x288 with 1 Axes>"
            ],
            "image/png": "[encoded data removed]"
          },
          "metadata": {
            "needs_background": "light"
          }
        }
      ]
    },
    {
      "cell_type": "code",
      "source": [
        "# Using Scikit-Learn\n",
        "from sklearn.linear_model import LinearRegression\n",
        "\n",
        "lin_reg_model = LinearRegression()\n",
        "lin_reg_model.fit(X, y)\n",
        "# Bias term - Intercept; Feature weight - Coefficient\n",
        "print(f\"Intercept of the model: {lin_reg_model.intercept_}, \"+\\\n",
        "      f\"Coefficient: {lin_reg_model.coef_}\")\n",
        "# Prediction\n",
        "lin_reg_model.predict(X_new)\n",
        "\n",
        "# LinearRegression class uses SVD method with complexity O(n^2).\n",
        "# Both, Normal equation and SVD get slow if number of features\n",
        "# grows large (e.g. 100,000). However, both are linear with\n",
        "# regard to number of observations in the training set i.e. they \n",
        "# are O(m) and hence, both can handle large training datasets\n",
        "# efficiently, provided they can fit in memory."
      ],
      "metadata": {
        "colab": {
          "base_uri": "https://localhost:8080/"
        },
        "id": "jh7xuUebB-KZ",
        "outputId": "67a3e452-2819-4011-f591-391b6063135d"
      },
      "execution_count": 9,
      "outputs": [
        {
          "output_type": "stream",
          "name": "stdout",
          "text": [
            "Intercept of the model: [0.45383577], Coefficient: [[5.02107898]]\n"
          ]
        },
        {
          "output_type": "execute_result",
          "data": {
            "text/plain": [
              "array([[ 0.45383577],\n",
              "       [15.5170727 ]])"
            ]
          },
          "metadata": {},
          "execution_count": 9
        }
      ]
    },
    {
      "cell_type": "code",
      "source": [
        "# Using Moore-Penrose inverse to find theta i.e. theta = pseudoinverse(X)*y\n",
        "# Normal equation may not work if X.T @ X is not invertible (e.g. m < n or \n",
        "# some feature is redundant. However, pseudoinverse is always defined).\n",
        "\n",
        "# Pseudoinverse is computed using SVD: X = U@S@V.T => X+ = V@S+@U.T, \n",
        "# where, S+ is obtained from S, by setting all values lesser than a threshold \n",
        "# value to zero, then replacing all non-zero values with their inverses, and \n",
        "# finally transposing the resulting matrix.\n",
        "\n",
        "# Moreover, computational complexity of calculating X.T @ X is (n+1)*(n+1)\n",
        "# i.e. O(n^2). Complexity of inverting such a matrix ~ O(n^2.4) to O(n^3)\n",
        "theta_mp_inv = np.linalg.pinv(X_b) @ y # "
      ],
      "metadata": {
        "id": "lilInj8sDGVM"
      },
      "execution_count": 10,
      "outputs": []
    },
    {
      "cell_type": "code",
      "source": [
        "theta_best - theta_mp_inv"
      ],
      "metadata": {
        "colab": {
          "base_uri": "https://localhost:8080/"
        },
        "id": "OdOxFK2iFDMf",
        "outputId": "b1eae2fa-ff92-4a48-a7e0-f1f3fb75151d"
      },
      "execution_count": 11,
      "outputs": [
        {
          "output_type": "execute_result",
          "data": {
            "text/plain": [
              "array([[ 1.79856130e-14],\n",
              "       [-1.15463195e-14]])"
            ]
          },
          "metadata": {},
          "execution_count": 11
        }
      ]
    },
    {
      "cell_type": "code",
      "source": [],
      "metadata": {
        "id": "RClrdrS2FUoU"
      },
      "execution_count": 11,
      "outputs": []
    }
  ]
}